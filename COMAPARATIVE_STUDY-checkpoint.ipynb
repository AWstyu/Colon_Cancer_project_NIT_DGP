{
 "cells": [
  {
   "cell_type": "code",
   "execution_count": null,
   "id": "54e4d106-7111-4b9e-bada-67fa83481c31",
   "metadata": {},
   "outputs": [],
   "source": [
    "import pandas as pd\n",
    "\n",
    "models=['Densenet201','GoogleNet','InceptionResnetV2','InceptionV3','Resnet50','Resnet101','VGG16','VGG19']\n",
    "Log_loss_scores=[0.0134,0.0318,0.0834,0.2111,0.0004,0.0051,0.0270,0.0627]\n",
    "\n",
    "df=pd.DataFrame({\n",
    "    'Model':models,\n",
    "    'Log_loss_score':Log_loss_scores\n",
    "}).sort_values(by='Log_loss_score')\n",
    "\n",
    "print(df)\n",
    "\n",
    "\n"
   ]
  },
  {
   "cell_type": "code",
   "execution_count": null,
   "id": "0f6c8107-c2bb-4670-a88a-b6a1ed9ee018",
   "metadata": {},
   "outputs": [],
   "source": [
    "import matplotlib.pyplot as plt\n",
    "import seaborn as sns\n",
    "\n",
    "plt.figure(figsize=(10, 6))\n",
    "sns.barplot(x='Log_loss_score', y='Model', data=df, palette='viridis')\n",
    "plt.title('Comparison of Models by Log Loss', fontsize=14)\n",
    "plt.xlabel('Log Loss')\n",
    "plt.ylabel('Models')\n",
    "plt.grid(True, linestyle='--', alpha=0.4)\n",
    "plt.tight_layout()\n",
    "plt.show()\n"
   ]
  },
  {
   "cell_type": "code",
   "execution_count": null,
   "id": "3daf021f-19c1-4655-b6eb-c168c7f3cfc5",
   "metadata": {},
   "outputs": [],
   "source": [
    "import numpy as np\n",
    "import matplotlib.pyplot as plt\n",
    "\n",
    "models = ['Densenet201', 'GoogleNet', 'InceptionResnetV2', 'InceptionV3',\n",
    "          'Resnet50', 'Resnet101', 'VGG16', 'VGG19']\n",
    "log_loss_scores = [0.0134, 0.0318, 0.0834, 0.2111, 0.0004, 0.0051, 0.0270, 0.0627]\n",
    "\n",
    "\n",
    "loss_array = np.array(log_loss_scores)\n",
    "norm = (loss_array - np.min(loss_array)) / (np.max(loss_array) - np.min(loss_array))\n",
    "inv_norm = 1 - norm  \n",
    "\n",
    "\n",
    "inv_norm = inv_norm.tolist()\n",
    "inv_norm += inv_norm[:1]\n",
    "angles = np.linspace(0, 2 * np.pi, len(models), endpoint=False).tolist()\n",
    "angles += angles[:1]\n",
    "\n",
    "\n",
    "fig, ax = plt.subplots(figsize=(7, 7), subplot_kw=dict(polar=True))\n",
    "ax.plot(angles, inv_norm, color='darkgreen', linewidth=2, label=\"Inverted Normalized Log Loss\")\n",
    "ax.fill(angles, inv_norm, color='limegreen', alpha=0.3)\n",
    "ax.set_thetagrids(np.degrees(angles[:-1]), models)\n",
    "ax.set_title('Radar Plot: Inverted Normalized Log Loss', size=14)\n",
    "ax.grid(True)\n",
    "plt.legend(loc='upper right', bbox_to_anchor=(1.2, 1.1))\n",
    "plt.tight_layout()\n",
    "plt.show()\n"
   ]
  },
  {
   "cell_type": "code",
   "execution_count": null,
   "id": "5a8f0fcc-3f88-4fa0-9388-89d2b8541700",
   "metadata": {},
   "outputs": [],
   "source": [
    "best_model = df.iloc[0]\n",
    "worst_model = df.iloc[-1]\n",
    "\n",
    "print(f\"Best Model: {best_model['Model']} with Log Loss = {best_model['Log_loss_score']:.4f}\")\n",
    "print(f\"Worst Model: {worst_model['Model']} with Log Loss = {worst_model['Log_loss_score']:.4f}\")\n"
   ]
  },
  {
   "cell_type": "code",
   "execution_count": null,
   "id": "98c476b3-b158-4296-a65f-e404615b880e",
   "metadata": {},
   "outputs": [],
   "source": [
    "import numpy as np\n",
    "import matplotlib.pyplot as plt\n",
    "\n",
    "\n",
    "modalities = [\"BLI\", \"WLI\", \"FICE\", \"NBI\", \"LCI\"]\n",
    "models = [\"DenseNet201\", \"VGG16\", \"VGG19\", \"ResNet50\", \"ResNet101\", \"InceptionV3\", \"InceptionResNetV2\", \"GoogleNet\"]\n",
    "\n",
    "\n",
    "accuracy_values = {\n",
    "    \"DenseNet201\":       [1.00, 1.00,1.00 ,0.9943 , 0.9944],\n",
    "    \"VGG16\":             [0.9949, 0.9938, 1.00, .9770, 1.00],\n",
    "    \"VGG19\":             [0.9898, 1.00, 0.9947, 0.9770, 0.9778],\n",
    "    \"ResNet50\":          [1.00, 1.00, 1.00, 1.00, 1.00],\n",
    "    \"ResNet101\":         [0.9949, 1.00, 1.00, .9943, 1.00],\n",
    "    \"InceptionV3\":       [1.00, .8951, 0.9841, 0.9598, 0.9833],\n",
    "    \"InceptionResNetV2\": [0.9490, 0.9877, 0.9841, 1.00, 1.00],\n",
    "    \"GoogleNet\":         [0.9796, 1.00, 0.9947, 1.00, 0.9944]\n",
    "}\n",
    "\n",
    "\n",
    "x = np.arange(len(modalities))\n",
    "bar_width = 0.1\n",
    "\n",
    "\n",
    "fig, ax = plt.subplots(figsize=(12, 6))\n",
    "\n",
    "\n",
    "for i, (model, accuracies) in enumerate(accuracy_values.items()):\n",
    "    ax.bar(x + i * bar_width, accuracies, width=bar_width, label=model)\n",
    "\n",
    "\n",
    "ax.set_xticks(x + (bar_width * len(models) / 2))\n",
    "ax.set_xticklabels(modalities)\n",
    "ax.set_ylabel(\"Accuracy\")\n",
    "ax.set_title(\"Feature Extraction Models Accuracy Across Modalities\")\n",
    "ax.legend(loc=\"upper left\", bbox_to_anchor=(1, 1))\n",
    "\n",
    "\n",
    "plt.tight_layout()\n",
    "plt.show()\n"
   ]
  }
 ],
 "metadata": {
  "kernelspec": {
   "display_name": "Python 3 (ipykernel)",
   "language": "python",
   "name": "python3"
  },
  "language_info": {
   "codemirror_mode": {
    "name": "ipython",
    "version": 3
   },
   "file_extension": ".py",
   "mimetype": "text/x-python",
   "name": "python",
   "nbconvert_exporter": "python",
   "pygments_lexer": "ipython3",
   "version": "3.12.4"
  }
 },
 "nbformat": 4,
 "nbformat_minor": 5
}
